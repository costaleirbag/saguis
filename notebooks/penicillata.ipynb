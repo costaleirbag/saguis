{
 "cells": [
  {
   "cell_type": "code",
   "execution_count": null,
   "id": "0a1ae52f",
   "metadata": {},
   "outputs": [],
   "source": [
    "import pandas as pd"
   ]
  },
  {
   "cell_type": "code",
   "execution_count": null,
   "id": "4567a779",
   "metadata": {},
   "outputs": [],
   "source": [
    "path = '../data/figures/Copy of C. penicillata 29_05 - observations-580262.csv'\n",
    "\n",
    "df = pd.read_csv(path)\n",
    "df"
   ]
  },
  {
   "cell_type": "code",
   "execution_count": null,
   "id": "77a65d6a",
   "metadata": {},
   "outputs": [],
   "source": [
    "df.columns"
   ]
  },
  {
   "cell_type": "code",
   "execution_count": null,
   "id": "2e217dc9",
   "metadata": {},
   "outputs": [],
   "source": [
    "df['observed_on'] = pd.to_datetime(df['observed_on'])\n",
    "df['observed_on']"
   ]
  },
  {
   "cell_type": "code",
   "execution_count": null,
   "id": "286ae802",
   "metadata": {},
   "outputs": [],
   "source": [
    "import seaborn as sns\n",
    "\n",
    "import matplotlib.pyplot as plt\n",
    "\n",
    "df['year'] = df['observed_on'].dt.year\n",
    "\n",
    "yearly_counts = df.groupby(['year', 'place_state_name']).size().reset_index(name='count')\n",
    "\n",
    "# Customize dpi and resolution\n",
    "dpi = 300  # Set your desired dpi\n",
    "fig = plt.figure(dpi=dpi, figsize=(10, 6))  # Adjust figsize as needed\n",
    "\n",
    "\n",
    "\n",
    "sns.barplot(data=yearly_counts, x='year', y='count', hue='place_state_name', errorbar=None)\n",
    "plt.show()"
   ]
  },
  {
   "cell_type": "code",
   "execution_count": null,
   "id": "a530eaae",
   "metadata": {},
   "outputs": [],
   "source": [
    "df[df['place_state_name'].isin(['Minas Gerais', 'São Paulo', 'Rio de Janeiro', 'Espírito Santo'])]['place_state_name'].value_counts()\n"
   ]
  },
  {
   "cell_type": "code",
   "execution_count": null,
   "id": "de7e4f77",
   "metadata": {},
   "outputs": [],
   "source": [
    "import matplotlib.pyplot as plt\n",
    "\n",
    "# Data for the pie chart (observations in Southeast Brazil)\n",
    "labels = ['SP', 'RJ', 'MG', 'ES']\n",
    "sizes = [1040, 179, 691, 10]\n",
    "colors = ['gold', 'yellowgreen', 'lightcoral', 'lightskyblue']\n",
    "explode = (0.1, 0, 0, 0)  # explode 1st slice (SP)\n",
    "\n",
    "# Create the pie chart\n",
    "plt.figure(figsize=(8, 8), dpi=300)\n",
    "plt.pie(sizes, explode=explode, labels=labels, colors=colors,\n",
    "        autopct='%1.1f%%', shadow=True, startangle=140)\n",
    "\n",
    "#plt.title('Distribuição de Observações no Sudeste do Brasil')\n",
    "plt.axis('equal')  # Equal aspect ratio ensures that pie is drawn as a circle.\n",
    "plt.show()"
   ]
  },
  {
   "cell_type": "code",
   "execution_count": null,
   "id": "ef3b3e59",
   "metadata": {},
   "outputs": [],
   "source": []
  }
 ],
 "metadata": {
  "kernelspec": {
   "display_name": "species-distribution-plotter-Fs507QfQ-py3.12",
   "language": "python",
   "name": "python3"
  },
  "language_info": {
   "codemirror_mode": {
    "name": "ipython",
    "version": 3
   },
   "file_extension": ".py",
   "mimetype": "text/x-python",
   "name": "python",
   "nbconvert_exporter": "python",
   "pygments_lexer": "ipython3",
   "version": "3.12.11"
  }
 },
 "nbformat": 4,
 "nbformat_minor": 5
}
