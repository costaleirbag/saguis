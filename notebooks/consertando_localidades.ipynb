{
 "cells": [
  {
   "cell_type": "code",
   "execution_count": null,
   "id": "807bc189",
   "metadata": {},
   "outputs": [],
   "source": [
    "import pandas as pd\n",
    "\n",
    "\n",
    "path = '../data/observations-580259.csv'\n",
    "\n",
    "df = pd.read_csv(path)\n",
    "df"
   ]
  },
  {
   "cell_type": "code",
   "execution_count": null,
   "id": "125494cc",
   "metadata": {},
   "outputs": [],
   "source": [
    "df['observed_on'] = pd.to_datetime(df['observed_on'])"
   ]
  },
  {
   "cell_type": "code",
   "execution_count": null,
   "id": "7c28ee2c",
   "metadata": {},
   "outputs": [],
   "source": [
    "df['year'] = df['observed_on'].dt.year\n",
    "df['month'] = df['observed_on'].dt.month\n",
    "df['day'] = df['observed_on'].dt.day"
   ]
  },
  {
   "cell_type": "code",
   "execution_count": null,
   "id": "e42ca57c",
   "metadata": {},
   "outputs": [],
   "source": [
    "number_of_observations_series = df.groupby('observed_on').size()\n",
    "number_of_observations_series"
   ]
  },
  {
   "cell_type": "code",
   "execution_count": null,
   "id": "69367135",
   "metadata": {},
   "outputs": [],
   "source": [
    "number_of_distinct_users_per_day = df.groupby('observed_on')['user_id'].nunique()\n",
    "number_of_distinct_users_per_day"
   ]
  },
  {
   "cell_type": "code",
   "execution_count": null,
   "id": "08a0936b",
   "metadata": {},
   "outputs": [],
   "source": [
    "import matplotlib.pyplot as plt\n",
    "\n",
    "# Resample to yearly sums\n",
    "obs_per_year = number_of_observations_series.resample('YE').sum()\n",
    "users_per_year = number_of_distinct_users_per_day.resample('YE').sum()\n",
    "ratio_per_year = obs_per_year / users_per_year\n",
    "\n",
    "fig, axs = plt.subplots(2, 1, figsize=(10, 8), sharex=True)\n",
    "\n",
    "# Plot total observations and users per year\n",
    "axs[0].plot(obs_per_year.index.year, obs_per_year.values, marker='o', label='Observations')\n",
    "axs[0].plot(users_per_year.index.year, users_per_year.values, marker='s', label='Distinct Users')\n",
    "axs[0].set_ylabel('Count')\n",
    "axs[0].set_title('Yearly Observations and Distinct Users')\n",
    "axs[0].legend()\n",
    "axs[0].grid(True)\n",
    "\n",
    "# Plot ratio\n",
    "axs[1].plot(ratio_per_year.index.year, ratio_per_year.values, marker='d', color='purple')\n",
    "axs[1].set_ylabel('Avg Observations per User')\n",
    "axs[1].set_xlabel('Year')\n",
    "axs[1].set_title('Average Observations per User per Year')\n",
    "axs[1].grid(True)\n",
    "\n",
    "# Adjust xlim to start just after 2000\n",
    "axs[1].set_xlim(left=2000)\n",
    "axs[1].set_xticks(range(2000, ratio_per_year.index.year.max() + 1, 2))\n",
    "axs[1].set_xticklabels(range(2000, ratio_per_year.index.year.max() + 1, 2), rotation=45)\n",
    "\n",
    "plt.tight_layout()\n",
    "plt.show()"
   ]
  },
  {
   "cell_type": "code",
   "execution_count": null,
   "id": "339864a6",
   "metadata": {},
   "outputs": [],
   "source": [
    "# Quero gerar a série do número de usuários nesse dia que não tinham feito observações em nenhum dia anterior.\n",
    "# Ou seja, o número de usuários que fizeram a primeira observação nesse dia.\n",
    "first_observations_per_day = df.groupby('observed_on')['user_id'].apply(lambda x: x[x.isin(x.drop_duplicates(keep='first'))])\n",
    "first_observations_per_day = first_observations_per_day.groupby('observed_on').nunique()\n",
    "first_observations_per_day\n"
   ]
  },
  {
   "cell_type": "code",
   "execution_count": null,
   "id": "e8ba3951",
   "metadata": {},
   "outputs": [],
   "source": [
    "first_observations_per_day.resample('YE').sum().plot(marker='o', figsize=(12, 6))"
   ]
  },
  {
   "cell_type": "code",
   "execution_count": null,
   "id": "53c37da1",
   "metadata": {},
   "outputs": [],
   "source": []
  }
 ],
 "metadata": {
  "kernelspec": {
   "display_name": "species-distribution-plotter-Fs507QfQ-py3.12",
   "language": "python",
   "name": "python3"
  },
  "language_info": {
   "codemirror_mode": {
    "name": "ipython",
    "version": 3
   },
   "file_extension": ".py",
   "mimetype": "text/x-python",
   "name": "python",
   "nbconvert_exporter": "python",
   "pygments_lexer": "ipython3",
   "version": "3.12.11"
  }
 },
 "nbformat": 4,
 "nbformat_minor": 5
}
